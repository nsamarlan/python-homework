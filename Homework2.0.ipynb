{
 "cells": [
  {
   "cell_type": "code",
   "execution_count": 8,
   "metadata": {},
   "outputs": [],
   "source": [
    "# Import the pathlib and csv library\n",
    "import pandas as pd\n",
    "import csv\n",
    "import os\n",
    "from pathlib import Path\n"
   ]
  },
  {
   "cell_type": "code",
   "execution_count": 2,
   "metadata": {},
   "outputs": [],
   "source": [
    "\n",
    "csv_path = Path('C:/Users/Marius23a/anaconda3/Resources/budget_data.csv')"
   ]
  },
  {
   "cell_type": "code",
   "execution_count": 6,
   "metadata": {},
   "outputs": [],
   "source": [
    "with open('C:/Users/Marius23a/anaconda3/Resources/budget_data.csv') as csvfile:\n",
    "    csv_reader = csv.reader(csvfile, delimiter=\",\")"
   ]
  },
  {
   "cell_type": "code",
   "execution_count": 10,
   "metadata": {},
   "outputs": [
    {
     "name": "stdout",
     "output_type": "stream",
     "text": [
      "------Summary-----\n",
      "Total no. of months: 86\n",
      "total profit: 38382578\n",
      "average: 446309.05\n",
      "maximum Profit Date : Feb-2012\n",
      "maximumProfit Amount: 1170593\n",
      "maximum Loss Date: Sep-2013\n",
      "maximum Loss amount: -1196225\n"
     ]
    }
   ],
   "source": [
    "\n",
    "\n",
    "#Importing and opeing csv file:\n",
    "\n",
    "\n",
    "import csv\n",
    "with open(r\"C:/Users/Marius23a/anaconda3/Resources/budget_data.csv\", \"r\") as csv_file:\n",
    "    \n",
    "     # Pass in the csv file to the csv.reader() function\n",
    "    # (with ',' as the delmiter/separator) and return the csvreader object\n",
    "    \n",
    "    csv_reader = csv.reader(csv_file,delimiter=',')\n",
    "    \n",
    "    # Read the header.\n",
    "    csv_header = next(csv_reader)\n",
    "    \n",
    "    \n",
    "    #Initializing.\n",
    "    nu_mnts = 0    \n",
    "    total_pl = 0    #Total Profit and loss\n",
    "    maxprofit = {'profit':['',0]}\n",
    "    maxloss = {'loss':['',0]}\n",
    "    \n",
    "    #iterate\n",
    "    for line in csv_reader:\n",
    "    \n",
    "        nu_mnts = nu_mnts + 1\n",
    "        pl = int(line[1])\n",
    "        total_pl = total_pl + pl\n",
    "        \n",
    "        \n",
    "        #average.\n",
    "        average_pl = round(total_pl/ nu_mnts, 2)\n",
    "        \n",
    "        \n",
    "        if pl>0:\n",
    "               # maxprofit['profit'][1]<pl\n",
    "                maxprofit['profit'] >= [line[0],pl]\n",
    "        if maxprofit['profit'][1]<pl:\n",
    "                maxprofit['profit'] = [line[0],pl]\n",
    "        if pl<0:\n",
    "            if maxloss['loss'][1]>pl:\n",
    "                maxloss['loss'] = [line[0],pl]\n",
    "        \n",
    "        \n",
    "    print('------Summary-----')\n",
    "    print(f\"Total no. of months: {nu_mnts}\")\n",
    "    print(f\"total profit: {total_pl}\") \n",
    "    print(f\"average: {average_pl}\")\n",
    "    print(f\"maximum Profit Date : {maxprofit['profit'][0]}\")\n",
    "    print(f\"maximumProfit Amount: {maxprofit['profit'][1]}\")\n",
    "    print(f\"maximum Loss Date: {maxloss['loss'][0]}\")\n",
    "    print(f\"maximum Loss amount: {maxloss['loss'][1]}\")\n"
   ]
  },
  {
   "cell_type": "code",
   "execution_count": null,
   "metadata": {},
   "outputs": [],
   "source": []
  },
  {
   "cell_type": "code",
   "execution_count": null,
   "metadata": {},
   "outputs": [],
   "source": []
  },
  {
   "cell_type": "code",
   "execution_count": null,
   "metadata": {},
   "outputs": [],
   "source": []
  }
 ],
 "metadata": {
  "kernelspec": {
   "display_name": "Python 3",
   "language": "python",
   "name": "python3"
  },
  "language_info": {
   "codemirror_mode": {
    "name": "ipython",
    "version": 3
   },
   "file_extension": ".py",
   "mimetype": "text/x-python",
   "name": "python",
   "nbconvert_exporter": "python",
   "pygments_lexer": "ipython3",
   "version": "3.8.5"
  }
 },
 "nbformat": 4,
 "nbformat_minor": 4
}
